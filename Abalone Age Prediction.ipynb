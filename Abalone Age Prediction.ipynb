{
 "cells": [
  {
   "cell_type": "markdown",
   "id": "c0b10fb7",
   "metadata": {},
   "source": [
    "## Predict the age of abalone from categorical and continuous data using deep learning"
   ]
  },
  {
   "cell_type": "code",
   "execution_count": 1,
   "id": "cad79c8d",
   "metadata": {},
   "outputs": [],
   "source": [
    "import pandas as pd\n",
    "import numpy as np\n",
    "import torch\n",
    "from torch.utils.data import Dataset, DataLoader, random_split\n",
    "from sklearn.preprocessing import StandardScaler, OneHotEncoder\n",
    "from sklearn.model_selection import train_test_split"
   ]
  },
  {
   "cell_type": "markdown",
   "id": "120c9049",
   "metadata": {},
   "source": [
    "### Loading Data"
   ]
  },
  {
   "cell_type": "code",
   "execution_count": 2,
   "id": "21afccdc",
   "metadata": {},
   "outputs": [],
   "source": [
    "train_df = pd.read_csv('train.csv')\n",
    "test_df = pd.read_csv('test.csv')"
   ]
  },
  {
   "cell_type": "code",
   "execution_count": 3,
   "id": "d93ad2f1",
   "metadata": {},
   "outputs": [
    {
     "data": {
      "text/html": [
       "<div>\n",
       "<style scoped>\n",
       "    .dataframe tbody tr th:only-of-type {\n",
       "        vertical-align: middle;\n",
       "    }\n",
       "\n",
       "    .dataframe tbody tr th {\n",
       "        vertical-align: top;\n",
       "    }\n",
       "\n",
       "    .dataframe thead th {\n",
       "        text-align: right;\n",
       "    }\n",
       "</style>\n",
       "<table border=\"1\" class=\"dataframe\">\n",
       "  <thead>\n",
       "    <tr style=\"text-align: right;\">\n",
       "      <th></th>\n",
       "      <th>Sex</th>\n",
       "      <th>Length</th>\n",
       "      <th>Diameter</th>\n",
       "      <th>Height</th>\n",
       "      <th>Whole_weight</th>\n",
       "      <th>Shucked_weight</th>\n",
       "      <th>Viscera_weight</th>\n",
       "      <th>Shell_weight</th>\n",
       "      <th>Rings</th>\n",
       "    </tr>\n",
       "  </thead>\n",
       "  <tbody>\n",
       "    <tr>\n",
       "      <th>0</th>\n",
       "      <td>M</td>\n",
       "      <td>0.545</td>\n",
       "      <td>0.450</td>\n",
       "      <td>0.150</td>\n",
       "      <td>0.7805</td>\n",
       "      <td>0.3795</td>\n",
       "      <td>0.1625</td>\n",
       "      <td>0.216</td>\n",
       "      <td>8</td>\n",
       "    </tr>\n",
       "    <tr>\n",
       "      <th>1</th>\n",
       "      <td>M</td>\n",
       "      <td>0.580</td>\n",
       "      <td>0.460</td>\n",
       "      <td>0.155</td>\n",
       "      <td>1.0335</td>\n",
       "      <td>0.4690</td>\n",
       "      <td>0.2225</td>\n",
       "      <td>0.295</td>\n",
       "      <td>10</td>\n",
       "    </tr>\n",
       "    <tr>\n",
       "      <th>2</th>\n",
       "      <td>M</td>\n",
       "      <td>0.635</td>\n",
       "      <td>0.495</td>\n",
       "      <td>0.150</td>\n",
       "      <td>1.0810</td>\n",
       "      <td>0.4825</td>\n",
       "      <td>0.2420</td>\n",
       "      <td>0.310</td>\n",
       "      <td>11</td>\n",
       "    </tr>\n",
       "    <tr>\n",
       "      <th>3</th>\n",
       "      <td>M</td>\n",
       "      <td>0.600</td>\n",
       "      <td>0.460</td>\n",
       "      <td>0.170</td>\n",
       "      <td>1.1805</td>\n",
       "      <td>0.4560</td>\n",
       "      <td>0.3370</td>\n",
       "      <td>0.329</td>\n",
       "      <td>11</td>\n",
       "    </tr>\n",
       "    <tr>\n",
       "      <th>4</th>\n",
       "      <td>M</td>\n",
       "      <td>0.600</td>\n",
       "      <td>0.485</td>\n",
       "      <td>0.175</td>\n",
       "      <td>1.2675</td>\n",
       "      <td>0.4995</td>\n",
       "      <td>0.2815</td>\n",
       "      <td>0.380</td>\n",
       "      <td>13</td>\n",
       "    </tr>\n",
       "  </tbody>\n",
       "</table>\n",
       "</div>"
      ],
      "text/plain": [
       "  Sex  Length  Diameter  Height  Whole_weight  Shucked_weight  Viscera_weight  \\\n",
       "0   M   0.545     0.450   0.150        0.7805          0.3795          0.1625   \n",
       "1   M   0.580     0.460   0.155        1.0335          0.4690          0.2225   \n",
       "2   M   0.635     0.495   0.150        1.0810          0.4825          0.2420   \n",
       "3   M   0.600     0.460   0.170        1.1805          0.4560          0.3370   \n",
       "4   M   0.600     0.485   0.175        1.2675          0.4995          0.2815   \n",
       "\n",
       "   Shell_weight  Rings  \n",
       "0         0.216      8  \n",
       "1         0.295     10  \n",
       "2         0.310     11  \n",
       "3         0.329     11  \n",
       "4         0.380     13  "
      ]
     },
     "execution_count": 3,
     "metadata": {},
     "output_type": "execute_result"
    }
   ],
   "source": [
    "train_df.head()"
   ]
  },
  {
   "cell_type": "code",
   "execution_count": 4,
   "id": "30953a85",
   "metadata": {},
   "outputs": [
    {
     "data": {
      "text/html": [
       "<div>\n",
       "<style scoped>\n",
       "    .dataframe tbody tr th:only-of-type {\n",
       "        vertical-align: middle;\n",
       "    }\n",
       "\n",
       "    .dataframe tbody tr th {\n",
       "        vertical-align: top;\n",
       "    }\n",
       "\n",
       "    .dataframe thead th {\n",
       "        text-align: right;\n",
       "    }\n",
       "</style>\n",
       "<table border=\"1\" class=\"dataframe\">\n",
       "  <thead>\n",
       "    <tr style=\"text-align: right;\">\n",
       "      <th></th>\n",
       "      <th>Sex</th>\n",
       "      <th>Length</th>\n",
       "      <th>Diameter</th>\n",
       "      <th>Height</th>\n",
       "      <th>Whole_weight</th>\n",
       "      <th>Shucked_weight</th>\n",
       "      <th>Viscera_weight</th>\n",
       "      <th>Shell_weight</th>\n",
       "    </tr>\n",
       "  </thead>\n",
       "  <tbody>\n",
       "    <tr>\n",
       "      <th>0</th>\n",
       "      <td>M</td>\n",
       "      <td>0.255</td>\n",
       "      <td>0.195</td>\n",
       "      <td>0.065</td>\n",
       "      <td>0.0800</td>\n",
       "      <td>0.0315</td>\n",
       "      <td>0.0180</td>\n",
       "      <td>0.027</td>\n",
       "    </tr>\n",
       "    <tr>\n",
       "      <th>1</th>\n",
       "      <td>M</td>\n",
       "      <td>0.335</td>\n",
       "      <td>0.255</td>\n",
       "      <td>0.075</td>\n",
       "      <td>0.1635</td>\n",
       "      <td>0.0615</td>\n",
       "      <td>0.0345</td>\n",
       "      <td>0.057</td>\n",
       "    </tr>\n",
       "    <tr>\n",
       "      <th>2</th>\n",
       "      <td>M</td>\n",
       "      <td>0.540</td>\n",
       "      <td>0.425</td>\n",
       "      <td>0.120</td>\n",
       "      <td>0.8170</td>\n",
       "      <td>0.2945</td>\n",
       "      <td>0.1530</td>\n",
       "      <td>0.195</td>\n",
       "    </tr>\n",
       "    <tr>\n",
       "      <th>3</th>\n",
       "      <td>I</td>\n",
       "      <td>0.355</td>\n",
       "      <td>0.270</td>\n",
       "      <td>0.100</td>\n",
       "      <td>0.2160</td>\n",
       "      <td>0.0830</td>\n",
       "      <td>0.0370</td>\n",
       "      <td>0.075</td>\n",
       "    </tr>\n",
       "    <tr>\n",
       "      <th>4</th>\n",
       "      <td>M</td>\n",
       "      <td>0.570</td>\n",
       "      <td>0.460</td>\n",
       "      <td>0.150</td>\n",
       "      <td>1.0375</td>\n",
       "      <td>0.5415</td>\n",
       "      <td>0.2035</td>\n",
       "      <td>0.250</td>\n",
       "    </tr>\n",
       "  </tbody>\n",
       "</table>\n",
       "</div>"
      ],
      "text/plain": [
       "  Sex  Length  Diameter  Height  Whole_weight  Shucked_weight  Viscera_weight  \\\n",
       "0   M   0.255     0.195   0.065        0.0800          0.0315          0.0180   \n",
       "1   M   0.335     0.255   0.075        0.1635          0.0615          0.0345   \n",
       "2   M   0.540     0.425   0.120        0.8170          0.2945          0.1530   \n",
       "3   I   0.355     0.270   0.100        0.2160          0.0830          0.0370   \n",
       "4   M   0.570     0.460   0.150        1.0375          0.5415          0.2035   \n",
       "\n",
       "   Shell_weight  \n",
       "0         0.027  \n",
       "1         0.057  \n",
       "2         0.195  \n",
       "3         0.075  \n",
       "4         0.250  "
      ]
     },
     "execution_count": 4,
     "metadata": {},
     "output_type": "execute_result"
    }
   ],
   "source": [
    "test_df.head()"
   ]
  },
  {
   "cell_type": "markdown",
   "id": "47f85cb5",
   "metadata": {},
   "source": [
    "#### 1.Check for missing values:"
   ]
  },
  {
   "cell_type": "code",
   "execution_count": 5,
   "id": "22a0f1d9",
   "metadata": {},
   "outputs": [
    {
     "name": "stdout",
     "output_type": "stream",
     "text": [
      "Sex               0\n",
      "Length            0\n",
      "Diameter          0\n",
      "Height            0\n",
      "Whole_weight      0\n",
      "Shucked_weight    0\n",
      "Viscera_weight    0\n",
      "Shell_weight      0\n",
      "Rings             0\n",
      "dtype: int64\n"
     ]
    }
   ],
   "source": [
    "print(train_df.isnull().sum())"
   ]
  },
  {
   "cell_type": "markdown",
   "id": "a0592de6",
   "metadata": {},
   "source": [
    "There are no missing values, so you can continue with the subsequent data preprocessing."
   ]
  },
  {
   "cell_type": "markdown",
   "id": "e1cee878",
   "metadata": {},
   "source": [
    "### 2.Preprocessing Data"
   ]
  },
  {
   "cell_type": "markdown",
   "id": "1f87ccd6",
   "metadata": {},
   "source": [
    "#### 2.1 Separate out categorical and numerical columns and Target Variables"
   ]
  },
  {
   "cell_type": "code",
   "execution_count": 6,
   "id": "4dbd2275",
   "metadata": {},
   "outputs": [],
   "source": [
    "categorical_col = ['Sex']\n",
    "numerical_cols = ['Length', 'Diameter', 'Height', 'Whole_weight',\n",
    "                  'Shucked_weight', 'Viscera_weight', 'Shell_weight']\n",
    "\n",
    "target_col = 'Rings'"
   ]
  },
  {
   "cell_type": "markdown",
   "id": "9d4b21dc",
   "metadata": {},
   "source": [
    "#### 2.2 Split into training set and validation set\n",
    "\n",
    "To prevent data leakage, split the data into training and validation sets before processing them to prevent the model from having \"seen\" the data distribution of the validation set."
   ]
  },
  {
   "cell_type": "code",
   "execution_count": 7,
   "id": "102d443c",
   "metadata": {},
   "outputs": [],
   "source": [
    "X_cat = train_df[categorical_col]\n",
    "X_num = train_df[numerical_cols]\n",
    "y = train_df[target_col].values"
   ]
  },
  {
   "cell_type": "code",
   "execution_count": 8,
   "id": "7d29e6f5",
   "metadata": {},
   "outputs": [],
   "source": [
    "X_cat_train, X_cat_val, X_num_train, X_num_val, y_train, y_val = train_test_split(\n",
    "    X_cat, X_num, y, test_size=0.2, random_state=42\n",
    ")"
   ]
  },
  {
   "cell_type": "markdown",
   "id": "0887bbe8",
   "metadata": {},
   "source": [
    "The training data is divided into a validation set to evaluate whether it is overfitting.  random_state=42 ensures repeatability."
   ]
  },
  {
   "cell_type": "markdown",
   "id": "cace239d",
   "metadata": {},
   "source": [
    "#### 2.3 One-Hot Encoding for categorical columns and  Standardization for numerical columns"
   ]
  },
  {
   "cell_type": "code",
   "execution_count": 9,
   "id": "d1e205d2",
   "metadata": {},
   "outputs": [],
   "source": [
    "# Initialize encoder and normalizer\n",
    "ohe = OneHotEncoder(sparse_output=False)  \n",
    "scaler = StandardScaler()                \n",
    "\n",
    "# Perform .fit_transform() on the training set\n",
    "X_cat_train_enc = ohe.fit_transform(X_cat_train)\n",
    "X_num_train_std = scaler.fit_transform(X_num_train)\n",
    "\n",
    "#Only .transform() the validation set to avoid leakage\n",
    "X_cat_val_enc = ohe.transform(X_cat_val)\n",
    "X_num_val_std = scaler.transform(X_num_val)\n",
    "\n",
    "#Merge the final feature vector\n",
    "X_train = np.hstack((X_cat_train_enc, X_num_train_std))\n",
    "X_val = np.hstack((X_cat_val_enc, X_num_val_std))"
   ]
  },
  {
   "cell_type": "markdown",
   "id": "da914ace",
   "metadata": {},
   "source": [
    "Sex is a categorical variable and needs to be converted to numerical form (one-hot encoding).\n",
    "\n",
    "The other columns are continuous variables and need to be standardized (mean is 0 and standard deviation is 1).\n",
    "\n",
    "This will make the neural network training more stable."
   ]
  },
  {
   "cell_type": "markdown",
   "id": "644db68e",
   "metadata": {},
   "source": [
    "### 2.5. Build a custom Dataset class"
   ]
  },
  {
   "cell_type": "code",
   "execution_count": 10,
   "id": "9d9de11a",
   "metadata": {},
   "outputs": [],
   "source": [
    "class AbaloneDataset(Dataset):\n",
    "    def __init__(self, features, targets):\n",
    "        self.X = torch.tensor(features, dtype=torch.float32)\n",
    "        self.y = torch.tensor(targets, dtype=torch.float32).view(-1, 1)\n",
    "\n",
    "    def __len__(self):\n",
    "        return len(self.X)\n",
    "\n",
    "    def __getitem__(self, idx):\n",
    "        return self.X[idx], self.y[idx]\n"
   ]
  },
  {
   "cell_type": "markdown",
   "id": "e251e6d2",
   "metadata": {},
   "source": [
    "### 2.6.Create DataLoader (mini-batch)\n",
    "\n",
    "train_loader and val_loader are the mini-batch data iterators we will use during training.\n",
    "\n",
    "shuffle=True is used to disrupt the training order, which helps the training convergence."
   ]
  },
  {
   "cell_type": "code",
   "execution_count": 11,
   "id": "b3f10ea0",
   "metadata": {},
   "outputs": [],
   "source": [
    "batch_size = 32\n",
    "\n",
    "train_dataset = AbaloneDataset(X_train, y_train)\n",
    "val_dataset = AbaloneDataset(X_val, y_val)\n",
    "\n",
    "train_loader = DataLoader(train_dataset, batch_size=batch_size, shuffle=True)\n",
    "val_loader = DataLoader(val_dataset, batch_size=batch_size, shuffle=False)"
   ]
  },
  {
   "cell_type": "markdown",
   "id": "f5c9868c",
   "metadata": {},
   "source": [
    "### 3. Approach and Methodology \n",
    "\n",
    "We choose to use regression analysis.\n",
    "\n",
    "Reasons:\n",
    "- The task goal is to predict the number of \"Rings\", that is, the age of the abalone.\n",
    "- Rings in the dataset is an integer variable (title description: \"Rings - Integer - 1 to 29\").\n",
    "- The target we predict is a continuous integer value, not a category label (unlike classification, which is a label 0/1/2, etc.).\n",
    "\n",
    "So this is a typical regression problem, not a classification problem.\n",
    "\n",
    "Then, we build a neural network that can handle tabular data (mixed categorical + numerical features) and use it to predict the age of abalone using regression.\n",
    "\n",
    "Use MLP (Multi-layer Perceptron):\n",
    "- This is a simple but powerful network, which is very suitable for small and medium-sized structured data (such as tabular data).\n",
    "- Compared with CNN/RNN, it is more suitable for processing fixed-column data.\n",
    "- The complexity can be adjusted by the number of layers, width, activation function, etc.\n",
    "- It is easy to add regularization components such as BatchNorm and Dropout."
   ]
  },
  {
   "cell_type": "code",
   "execution_count": 12,
   "id": "6aea5040",
   "metadata": {},
   "outputs": [],
   "source": [
    "import torch.nn as nn\n",
    "\n",
    "class AbaloneMLP(nn.Module):\n",
    "    def __init__(self, input_dim):\n",
    "        super(AbaloneMLP, self).__init__()\n",
    "        \n",
    "        self.net = nn.Sequential(\n",
    "            nn.Linear(input_dim, 64),             # First hidden layer\n",
    "            nn.BatchNorm1d(64),                   # Batch normalization to speed up training\n",
    "            nn.ReLU(),                            # Activation function\n",
    "            nn.Dropout(p=0.3),                    # Dropout，Preventing Overfitting\n",
    "            \n",
    "            nn.Linear(64, 32),                    # Second hidden layer\n",
    "            nn.BatchNorm1d(32),\n",
    "            nn.ReLU(),\n",
    "            nn.Dropout(p=0.3),\n",
    "\n",
    "            nn.Linear(32, 1)                      # Output layer, regressing a continuous value\n",
    "        )\n",
    "    \n",
    "    def forward(self, x):\n",
    "        return self.net(x)"
   ]
  },
  {
   "cell_type": "markdown",
   "id": "03566886",
   "metadata": {},
   "source": [
    "Now that we have completed the definition of the model structure, we can:\n",
    "\n",
    "**3.1 Initialize the model**"
   ]
  },
  {
   "cell_type": "code",
   "execution_count": 13,
   "id": "d5a27920",
   "metadata": {},
   "outputs": [],
   "source": [
    "input_dim = X_train.shape[1]\n",
    "model = AbaloneMLP(input_dim)"
   ]
  },
  {
   "cell_type": "markdown",
   "id": "21b751aa",
   "metadata": {},
   "source": [
    "**3.2 Select the optimizer and loss function**"
   ]
  },
  {
   "cell_type": "code",
   "execution_count": 14,
   "id": "4658f8ad",
   "metadata": {},
   "outputs": [],
   "source": [
    "import torch.optim as optim\n",
    "\n",
    "criterion = nn.MSELoss()\n",
    "optimizer = optim.Adam(model.parameters(), lr=0.001, weight_decay=1e-4)  # L2 regularization"
   ]
  },
  {
   "cell_type": "markdown",
   "id": "d0f5ffc4",
   "metadata": {},
   "source": [
    "#### Parameter description:\n",
    "\n",
    "| Parameter name | Meaning |\n",
    "|--------|------|\n",
    "| `lr=0.001` | Learning rate, controls update speed |\n",
    "| `weight_decay=1e-4` | It is the L2 regularization coefficient. The larger the value, the stronger the \"penalization of large weights\" |"
   ]
  },
  {
   "cell_type": "markdown",
   "id": "4e23d6f5",
   "metadata": {},
   "source": [
    "### 4.Results and Evaluation\n",
    "4.1 Define the training function"
   ]
  },
  {
   "cell_type": "code",
   "execution_count": 15,
   "id": "56776004",
   "metadata": {},
   "outputs": [],
   "source": [
    "import time\n",
    "import matplotlib.pyplot as plt\n",
    "\n",
    "def train_model(model, train_loader, val_loader, criterion, optimizer, num_epochs=50, patience=5):\n",
    "    best_loss = float('inf')\n",
    "    best_model_wts = None\n",
    "    train_losses, val_losses = [], []\n",
    "    epochs_no_improve = 0\n",
    "\n",
    "    for epoch in range(num_epochs):\n",
    "        model.train()\n",
    "        train_loss = 0.0\n",
    "        for X_batch, y_batch in train_loader:\n",
    "            optimizer.zero_grad()\n",
    "            outputs = model(X_batch)\n",
    "            loss = criterion(outputs, y_batch)\n",
    "            loss.backward()\n",
    "            optimizer.step()\n",
    "            train_loss += loss.item() * X_batch.size(0)\n",
    "\n",
    "        train_loss /= len(train_loader.dataset)\n",
    "        train_losses.append(train_loss)\n",
    "\n",
    "        # Verification phase\n",
    "        model.eval()\n",
    "        val_loss = 0.0\n",
    "        with torch.no_grad():\n",
    "            for X_batch, y_batch in val_loader:\n",
    "                outputs = model(X_batch)\n",
    "                loss = criterion(outputs, y_batch)\n",
    "                val_loss += loss.item() * X_batch.size(0)\n",
    "        val_loss /= len(val_loader.dataset)\n",
    "        val_losses.append(val_loss)\n",
    "\n",
    "        print(f\"Epoch [{epoch+1}/{num_epochs}], Train Loss: {train_loss:.4f}, Val Loss: {val_loss:.4f}\")\n",
    "\n",
    "        # Early Stopping Check\n",
    "        if val_loss < best_loss:\n",
    "            best_loss = val_loss\n",
    "            best_model_wts = model.state_dict()\n",
    "            epochs_no_improve = 0\n",
    "            torch.save(best_model_wts, 'best_model.pt')  # Save the best model\n",
    "        else:\n",
    "            epochs_no_improve += 1\n",
    "            if epochs_no_improve >= patience:\n",
    "                print(f\"Early stopping at epoch {epoch+1}\")\n",
    "                break\n",
    "\n",
    "    # Visualize the loss curve\n",
    "    plt.plot(train_losses, label='Train Loss')\n",
    "    plt.plot(val_losses, label='Validation Loss')\n",
    "    plt.xlabel(\"Epoch\")\n",
    "    plt.ylabel(\"Loss\")\n",
    "    plt.legend()\n",
    "    plt.title(\"Loss Curve\")\n",
    "    plt.grid(True)\n",
    "    plt.show()\n",
    "\n",
    "    # Load the best model weights (for testing phase)\n",
    "    model.load_state_dict(torch.load('best_model.pt'))\n",
    "    return model\n"
   ]
  },
  {
   "cell_type": "markdown",
   "id": "0f172a61",
   "metadata": {},
   "source": [
    "4.2 Run the training function"
   ]
  },
  {
   "cell_type": "code",
   "execution_count": 16,
   "id": "4be37d42",
   "metadata": {},
   "outputs": [
    {
     "name": "stderr",
     "output_type": "stream",
     "text": [
      "C:\\Users\\raina\\AppData\\Roaming\\Python\\Python310\\site-packages\\torch\\autograd\\graph.py:823: UserWarning: CUDA initialization: The NVIDIA driver on your system is too old (found version 11070). Please update your GPU driver by downloading and installing a new version from the URL: http://www.nvidia.com/Download/index.aspx Alternatively, go to: https://pytorch.org to install a PyTorch version that has been compiled with your version of the CUDA driver. (Triggered internally at C:\\actions-runner\\_work\\pytorch\\pytorch\\pytorch\\c10\\cuda\\CUDAFunctions.cpp:109.)\n",
      "  return Variable._execution_engine.run_backward(  # Calls into the C++ engine to run the backward pass\n"
     ]
    },
    {
     "name": "stdout",
     "output_type": "stream",
     "text": [
      "Epoch [1/100], Train Loss: 101.0854, Val Loss: 85.3272\n",
      "Epoch [2/100], Train Loss: 73.5378, Val Loss: 58.6252\n",
      "Epoch [3/100], Train Loss: 46.3513, Val Loss: 36.2244\n",
      "Epoch [4/100], Train Loss: 24.8519, Val Loss: 14.5569\n",
      "Epoch [5/100], Train Loss: 13.4446, Val Loss: 7.6939\n",
      "Epoch [6/100], Train Loss: 9.4560, Val Loss: 5.5180\n",
      "Epoch [7/100], Train Loss: 8.3076, Val Loss: 4.7836\n",
      "Epoch [8/100], Train Loss: 8.6405, Val Loss: 4.7887\n",
      "Epoch [9/100], Train Loss: 8.4003, Val Loss: 4.7609\n",
      "Epoch [10/100], Train Loss: 9.0819, Val Loss: 4.3910\n",
      "Epoch [11/100], Train Loss: 7.8902, Val Loss: 4.4041\n",
      "Epoch [12/100], Train Loss: 7.7315, Val Loss: 4.6305\n",
      "Epoch [13/100], Train Loss: 7.8804, Val Loss: 4.5526\n",
      "Epoch [14/100], Train Loss: 7.8377, Val Loss: 4.5572\n",
      "Epoch [15/100], Train Loss: 8.0058, Val Loss: 4.3353\n",
      "Epoch [16/100], Train Loss: 7.6167, Val Loss: 4.6044\n",
      "Epoch [17/100], Train Loss: 7.7792, Val Loss: 4.4077\n",
      "Epoch [18/100], Train Loss: 7.9238, Val Loss: 4.3276\n",
      "Epoch [19/100], Train Loss: 7.9232, Val Loss: 4.2850\n",
      "Epoch [20/100], Train Loss: 7.9972, Val Loss: 4.2651\n",
      "Epoch [21/100], Train Loss: 7.2843, Val Loss: 4.4564\n",
      "Epoch [22/100], Train Loss: 7.4320, Val Loss: 4.3414\n",
      "Epoch [23/100], Train Loss: 7.4972, Val Loss: 3.9936\n",
      "Epoch [24/100], Train Loss: 7.7404, Val Loss: 4.2144\n",
      "Epoch [25/100], Train Loss: 7.7144, Val Loss: 4.4895\n",
      "Epoch [26/100], Train Loss: 7.8730, Val Loss: 4.0854\n",
      "Epoch [27/100], Train Loss: 7.4669, Val Loss: 4.1020\n",
      "Epoch [28/100], Train Loss: 7.8132, Val Loss: 4.1812\n",
      "Epoch [29/100], Train Loss: 7.0783, Val Loss: 3.9778\n",
      "Epoch [30/100], Train Loss: 7.5084, Val Loss: 4.0418\n",
      "Epoch [31/100], Train Loss: 7.2908, Val Loss: 4.2707\n",
      "Epoch [32/100], Train Loss: 7.2134, Val Loss: 4.2765\n",
      "Epoch [33/100], Train Loss: 7.3091, Val Loss: 4.5026\n",
      "Epoch [34/100], Train Loss: 7.1899, Val Loss: 3.9974\n",
      "Epoch [35/100], Train Loss: 7.1030, Val Loss: 4.1712\n",
      "Epoch [36/100], Train Loss: 6.9345, Val Loss: 4.1637\n",
      "Epoch [37/100], Train Loss: 7.0562, Val Loss: 3.9215\n",
      "Epoch [38/100], Train Loss: 7.2368, Val Loss: 4.0595\n",
      "Epoch [39/100], Train Loss: 7.0064, Val Loss: 4.0596\n",
      "Epoch [40/100], Train Loss: 7.1533, Val Loss: 4.0347\n",
      "Epoch [41/100], Train Loss: 7.2724, Val Loss: 4.0690\n",
      "Epoch [42/100], Train Loss: 6.7529, Val Loss: 4.1329\n",
      "Epoch [43/100], Train Loss: 6.8893, Val Loss: 4.0635\n",
      "Epoch [44/100], Train Loss: 7.0218, Val Loss: 4.1109\n",
      "Epoch [45/100], Train Loss: 6.4634, Val Loss: 3.9560\n",
      "Epoch [46/100], Train Loss: 6.8260, Val Loss: 4.3216\n",
      "Epoch [47/100], Train Loss: 6.6986, Val Loss: 4.1835\n",
      "Early stopping at epoch 47\n"
     ]
    },
    {
     "data": {
      "image/png": "[encoded data removed]",
      "text/plain": [
       "<Figure size 640x480 with 1 Axes>"
      ]
     },
     "metadata": {},
     "output_type": "display_data"
    }
   ],
   "source": [
    "num_epochs = 100\n",
    "model = train_model(model, train_loader, val_loader, criterion, optimizer, num_epochs=num_epochs, patience=10)"
   ]
  },
  {
   "cell_type": "markdown",
   "id": "8b352bfe",
   "metadata": {},
   "source": [
    "1. **Training Loss drops quickly from 101 to around 6.6**\n",
    "- This shows that the model is learning quickly and the effect is very ideal\n",
    "\n",
    "2. **Validation Loss drops from 85 to around 4.1**\n",
    "- At the same time, the validation set effect is also improving, indicating that there is no serious overfitting\n",
    "\n",
    "3. **Val Loss reaches the best value around Epoch 47**\n",
    "- Early Stopping helps us stop at the 43th epoch to avoid wasting resources or overfitting\n",
    "\n",
    "4. **Finally, best_model.pt saves the optimal network parameters**\n",
    "- Our model has the ability to generate test.csv inference predictions\n",
    "\n",
    "#### Graphic interpretation:\n",
    "- The blue line is the training error, and the orange line is the validation error.\n",
    "- Both drop rapidly and then stabilize.\n",
    "- The validation error is always slightly lower than the training error, indicating that the model generalizes well and there is no obvious overfitting."
   ]
  },
  {
   "cell_type": "markdown",
   "id": "6ada675a",
   "metadata": {},
   "source": [
    "**Loss Curve Interpretation and Validation Behavior**\n",
    "\n",
    "During training, the validation loss was observed to be consistently lower than the training loss after the initial epochs. While this might seem counterintuitive, it is in fact a common and explainable phenomenon in neural networks trained with regularization. First, dropout (with p=0.3) was applied during training to prevent overfitting by randomly deactivating neurons, effectively injecting noise into the learning process. During validation, however, dropout is turned off, and the full network is evaluated, which can lead to better performance and lower loss. Second, early stopping was employed to halt training once the validation loss plateaued, helping to preserve generalization and avoid overfitting. Third, since the training data was processed in shuffled mini-batches (with shuffle=True) while the validation set was evaluated in full, training loss is more subject to stochastic variation. In contrast, validation loss tends to be smoother and potentially lower. Therefore, the observed validation loss being lower than training loss is not a sign of error, but rather reflects good regularization and generalization behavior."
   ]
  },
  {
   "cell_type": "markdown",
   "id": "e4f8d729",
   "metadata": {},
   "source": [
    "### 5. Inference code (use test.csv to predict Rings)"
   ]
  },
  {
   "cell_type": "code",
   "execution_count": 17,
   "id": "ff05a401",
   "metadata": {},
   "outputs": [
    {
     "name": "stdout",
     "output_type": "stream",
     "text": [
      "Predictions saved to test_predictions.csv\n"
     ]
    }
   ],
   "source": [
    "# Step 1: Read test.csv\n",
    "test_df = pd.read_csv('test.csv')\n",
    "\n",
    "# Step 2: Perform the same preprocessing on the test data as on the training set\n",
    "X_cat_test = ohe.transform(test_df[categorical_col])\n",
    "X_num_test = scaler.transform(test_df[numerical_cols])\n",
    "X_test = np.hstack((X_cat_test, X_num_test))\n",
    "\n",
    "X_test_tensor = torch.tensor(X_test, dtype=torch.float32)\n",
    "\n",
    "# Step 3: Load the trained model parameters\n",
    "model = AbaloneMLP(X_test.shape[1])  \n",
    "model.load_state_dict(torch.load('best_model.pt'))\n",
    "model.eval()  \n",
    "\n",
    "# Step 4: Generate predictions and write to CSV\n",
    "with torch.no_grad():\n",
    "    predictions = model(X_test_tensor).numpy().flatten()\n",
    "    predictions = np.round(predictions).astype(int) \n",
    "    predictions = np.clip(predictions, 1, 29)        \n",
    "\n",
    "output_df = test_df.copy()\n",
    "output_df['Rings'] = predictions\n",
    "output_df.to_csv('test_predictions.csv', index=False)\n",
    "print(\"Predictions saved to test_predictions.csv\")"
   ]
  },
  {
   "cell_type": "markdown",
   "id": "e2ed8fd3",
   "metadata": {},
   "source": [
    "### 6.Summary and Justification"
   ]
  },
  {
   "cell_type": "markdown",
   "id": "760ee511",
   "metadata": {},
   "source": [
    "### **Abalone Age Prediction using MLP and PyTorch**\n",
    "\n",
    "### 1. Summary of Approach and Key Novelties\n",
    "\n",
    "In this assignment, I implemented a regression model to predict the age of abalone using both categorical and numerical features. The model is based on a **Multi-Layer Perceptron (MLP)** architecture using PyTorch. My approach includes the following key design elements:\n",
    "\n",
    "- **Mixed-feature handling:** Used OneHotEncoding for the categorical `Sex` column and standardization for all numerical features.\n",
    "- **Regularized model architecture:** Applied **Dropout** and **Batch Normalization** to improve generalization and training stability.\n",
    "- **Training improvements:** Integrated **Early Stopping** and **L2 regularization (weight decay)** to prevent overfitting.\n",
    "- **Reproducibility:** Trained model weights are saved as a `.pt` file and used for test inference, ensuring repeatable results.\n",
    "\n",
    "---\n",
    "\n",
    "### 2. Justification of Design Choices\n",
    "\n",
    "#### a) Data Preprocessing\n",
    "- Categorical feature `Sex` was encoded using `OneHotEncoder` to avoid ordinal bias.\n",
    "- Numerical features (e.g., `Length`, `Diameter`, etc.) were standardized using `StandardScaler` to ensure balanced gradient updates.\n",
    "- The train set was split into training and validation (80/20) to monitor generalization performance and detect overfitting.\n",
    "\n",
    "#### b) Neural Network Design\n",
    "- I designed a **two-hidden-layer MLP**:\n",
    "  - First layer: Linear(→64) → BatchNorm → ReLU → Dropout(0.3)\n",
    "  - Second layer: Linear(→32) → BatchNorm → ReLU → Dropout(0.3)\n",
    "  - Final layer: Linear(→1), for regression output.\n",
    "- The activation function used was **ReLU** to introduce non-linearity.\n",
    "- The hidden layer sizes (64 and 32) were chosen as a reasonable trade-off between model expressiveness and computational simplicity.\n",
    "\n",
    "#### c) Training Protocol\n",
    "- Used **Adam optimizer** with a learning rate of 0.001 and `weight_decay=1e-4` (L2 regularization).\n",
    "- The loss function was **Mean Squared Error (MSE)** since the output is continuous.\n",
    "- **Early Stopping** was applied with a patience of 10 to prevent overfitting while saving training time.\n",
    "- Loss curves were plotted to visualize convergence and ensure stable learning.\n",
    "\n",
    "#### d) Inference Protocol\n",
    "- After training, the best-performing model weights (lowest validation loss) were saved.\n",
    "- The same preprocessing steps were applied to `test.csv`.\n",
    "- In inference mode, the model predicted the number of Rings for each sample, and outputs were rounded to integers in the valid range [1, 29].\n",
    "- The results were written to a `test_predictions.csv` file.\n",
    "\n",
    "---\n",
    "\n",
    "### 3. Challenges and Potential Improvements\n",
    "\n",
    "**Challenges:**\n",
    "\n",
    "- **Mixed-type feature handling** required careful and consistent preprocessing. Categorical features were one-hot encoded, and numerical features standardized, while ensuring that no data leakage occurred by fitting preprocessing steps only on the training set.\n",
    "- **Prediction rounding** was necessary: the model outputs floating-point values, but the target variable (number of rings) must be an integer. I addressed this by rounding the predictions and clipping them to the valid age range \\([1, 29]\\).\n",
    "- **Early onset of overfitting** was observed around epoch 15–25. To handle this, I employed early stopping with a patience of 10 based on validation loss.\n",
    "- **Validation loss lower than training loss**: Interestingly, the validation loss remained slightly lower than the training loss throughout training. While this might seem counterintuitive, it is expected behavior under certain settings. Since dropout (with \\(p=0.3\\)) is only active during training, the model is intentionally \"weakened\" to prevent overfitting. In contrast, during validation, dropout is disabled, allowing the full network to be used, which often improves performance. Additionally, the training data is shuffled and passed through mini-batches, introducing stochastic noise, whereas the validation set is evaluated in full, resulting in smoother and potentially lower loss.\n",
    "\n",
    "**Potential Improvements:**\n",
    "\n",
    "- Experiment with **deeper or more expressive architectures**, such as residual MLPs or convolutional modules, to improve model capacity.\n",
    "- Use **K-fold cross-validation** for a more reliable estimate of model generalization.\n",
    "- Apply **hyperparameter tuning** (e.g., learning rate, dropout rate, hidden dimensions) via grid search or Bayesian optimization.\n",
    "- Incorporate **feature importance analysis** to better understand which attributes contribute most to the age prediction.\n"
   ]
  },
  {
   "cell_type": "markdown",
   "id": "16576a74",
   "metadata": {},
   "source": [
    "### 7.Additional Experiment – Classification Attempt"
   ]
  },
  {
   "cell_type": "code",
   "execution_count": 28,
   "id": "42b311b6",
   "metadata": {},
   "outputs": [
    {
     "name": "stdout",
     "output_type": "stream",
     "text": [
      "Epoch 1, Train Loss: 3.0349, Val Loss: 2.6559\n",
      "Epoch 2, Train Loss: 2.4835, Val Loss: 2.2740\n",
      "Epoch 3, Train Loss: 2.2772, Val Loss: 2.1217\n",
      "Epoch 4, Train Loss: 2.2099, Val Loss: 2.0607\n",
      "Epoch 5, Train Loss: 2.1560, Val Loss: 2.0191\n",
      "Epoch 6, Train Loss: 2.1213, Val Loss: 1.9927\n",
      "Epoch 7, Train Loss: 2.0944, Val Loss: 1.9677\n",
      "Epoch 8, Train Loss: 2.0832, Val Loss: 1.9528\n",
      "Epoch 9, Train Loss: 2.0618, Val Loss: 1.9509\n",
      "Epoch 10, Train Loss: 2.0521, Val Loss: 1.9357\n",
      "Epoch 11, Train Loss: 2.0470, Val Loss: 1.9382\n",
      "Epoch 12, Train Loss: 2.0409, Val Loss: 1.9316\n",
      "Epoch 13, Train Loss: 2.0478, Val Loss: 1.9295\n",
      "Epoch 14, Train Loss: 2.0295, Val Loss: 1.9227\n",
      "Epoch 15, Train Loss: 2.0193, Val Loss: 1.9211\n",
      "Epoch 16, Train Loss: 2.0019, Val Loss: 1.9290\n",
      "Epoch 17, Train Loss: 2.0158, Val Loss: 1.9134\n",
      "Epoch 18, Train Loss: 2.0037, Val Loss: 1.9109\n",
      "Epoch 19, Train Loss: 2.0117, Val Loss: 1.9141\n",
      "Epoch 20, Train Loss: 2.0000, Val Loss: 1.9142\n",
      "Epoch 21, Train Loss: 2.0088, Val Loss: 1.9084\n",
      "Epoch 22, Train Loss: 2.0053, Val Loss: 1.9111\n",
      "Epoch 23, Train Loss: 1.9937, Val Loss: 1.9057\n",
      "Epoch 24, Train Loss: 1.9751, Val Loss: 1.9035\n",
      "Epoch 25, Train Loss: 1.9878, Val Loss: 1.8948\n",
      "Epoch 26, Train Loss: 1.9927, Val Loss: 1.9032\n",
      "Epoch 27, Train Loss: 1.9776, Val Loss: 1.9004\n",
      "Epoch 28, Train Loss: 1.9720, Val Loss: 1.8889\n",
      "Epoch 29, Train Loss: 1.9769, Val Loss: 1.9018\n",
      "Epoch 30, Train Loss: 1.9870, Val Loss: 1.8980\n",
      "Epoch 31, Train Loss: 1.9785, Val Loss: 1.8987\n",
      "Epoch 32, Train Loss: 1.9927, Val Loss: 1.8997\n",
      "Epoch 33, Train Loss: 1.9675, Val Loss: 1.9035\n",
      "Epoch 34, Train Loss: 1.9709, Val Loss: 1.8980\n",
      "Epoch 35, Train Loss: 1.9722, Val Loss: 1.8966\n",
      "Epoch 36, Train Loss: 1.9718, Val Loss: 1.8934\n",
      "Epoch 37, Train Loss: 1.9877, Val Loss: 1.8999\n",
      "Epoch 38, Train Loss: 1.9641, Val Loss: 1.8959\n",
      " Early stopping at epoch 38\n"
     ]
    },
    {
     "data": {
      "image/png": "[encoded data removed]",
      "text/plain": [
       "<Figure size 640x480 with 1 Axes>"
      ]
     },
     "metadata": {},
     "output_type": "display_data"
    }
   ],
   "source": [
    "df_class = pd.read_csv(\"train.csv\")\n",
    "\n",
    "# Labels are adjusted to categorical labels (range 0-28, corresponding to Rings 1~29)\n",
    "X_cat_class = df_class[['Sex']]\n",
    "X_num_class = df_class.drop(columns=['Sex', 'Rings'])\n",
    "y_class = df_class['Rings'].clip(1, 29).values - 1\n",
    "\n",
    "# Split training and validation sets\n",
    "X_cat_train_class, X_cat_val_class, X_num_train_class, X_num_val_class, y_train_class, y_val_class = train_test_split(\n",
    "    X_cat_class, X_num_class, y_class, test_size=0.2, random_state=42\n",
    ")\n",
    "\n",
    "# Encoding and standardization\n",
    "ohe_class = OneHotEncoder(sparse_output=False)\n",
    "scaler_class = StandardScaler()\n",
    "\n",
    "X_cat_train_enc_class = ohe_class.fit_transform(X_cat_train_class)\n",
    "X_cat_val_enc_class = ohe_class.transform(X_cat_val_class)\n",
    "X_num_train_std_class = scaler_class.fit_transform(X_num_train_class)\n",
    "X_num_val_std_class = scaler_class.transform(X_num_val_class)\n",
    "\n",
    "X_train_class = np.hstack((X_cat_train_enc_class, X_num_train_std_class))\n",
    "X_val_class = np.hstack((X_cat_val_enc_class, X_num_val_std_class))\n",
    "\n",
    "# Dataset for classification\n",
    "class AbaloneDatasetClass(Dataset):\n",
    "    def __init__(self, X, y):\n",
    "        self.X = torch.tensor(X, dtype=torch.float32)\n",
    "        self.y = torch.tensor(y, dtype=torch.long)\n",
    "    def __len__(self): return len(self.X)\n",
    "    def __getitem__(self, idx): return self.X[idx], self.y[idx]\n",
    "\n",
    "train_loader_class = DataLoader(AbaloneDatasetClass(X_train_class, y_train_class), batch_size=32, shuffle=True)\n",
    "val_loader_class = DataLoader(AbaloneDatasetClass(X_val_class, y_val_class), batch_size=32)\n",
    "\n",
    "# modelling\n",
    "class ClassifierMLP(nn.Module):\n",
    "    def __init__(self, input_dim):\n",
    "        super().__init__()\n",
    "        self.net = nn.Sequential(\n",
    "            nn.Linear(input_dim, 64),\n",
    "            nn.BatchNorm1d(64),\n",
    "            nn.ReLU(),\n",
    "            nn.Dropout(0.3),\n",
    "            nn.Linear(64, 32),\n",
    "            nn.BatchNorm1d(32),\n",
    "            nn.ReLU(),\n",
    "            nn.Dropout(0.3),\n",
    "            nn.Linear(32, 29)  # 29 Classification Output\n",
    "        )\n",
    "    def forward(self, x): return self.net(x)\n",
    "\n",
    "model_class = ClassifierMLP(X_train_class.shape[1])\n",
    "criterion_class = nn.CrossEntropyLoss()\n",
    "optimizer_class = torch.optim.Adam(model_class.parameters(), lr=0.001, weight_decay=1e-4)\n",
    "\n",
    "# Training (with Early Stopping)\n",
    "train_losses_class, val_losses_class = [], []\n",
    "best_loss_class = float('inf')\n",
    "patience = 10               \n",
    "early_stop_counter = 0      \n",
    "\n",
    "for epoch in range(100):\n",
    "    model_class.train()\n",
    "    train_loss = 0\n",
    "    for xb, yb in train_loader_class:\n",
    "        optimizer_class.zero_grad()\n",
    "        pred = model_class(xb)\n",
    "        loss = criterion_class(pred, yb)\n",
    "        loss.backward()\n",
    "        optimizer_class.step()\n",
    "        train_loss += loss.item() * xb.size(0)\n",
    "    train_losses_class.append(train_loss / len(train_loader_class.dataset))\n",
    "\n",
    "    # Verification phase\n",
    "    model_class.eval()\n",
    "    val_loss = 0\n",
    "    with torch.no_grad():\n",
    "        for xb, yb in val_loader_class:\n",
    "            pred = model_class(xb)\n",
    "            loss = criterion_class(pred, yb)\n",
    "            val_loss += loss.item() * xb.size(0)\n",
    "    val_losses_class.append(val_loss / len(val_loader_class.dataset))\n",
    "\n",
    "    print(f\"Epoch {epoch+1}, Train Loss: {train_losses_class[-1]:.4f}, Val Loss: {val_losses_class[-1]:.4f}\")\n",
    "\n",
    "    #Early Stopping Decision\n",
    "    if val_loss < best_loss_class:\n",
    "        best_loss_class = val_loss\n",
    "        torch.save(model_class.state_dict(), 'best_model_class.pt')  # Save the best model\n",
    "        early_stop_counter = 0\n",
    "    else:\n",
    "        early_stop_counter += 1\n",
    "        if early_stop_counter >= patience:\n",
    "            print(f\" Early stopping at epoch {epoch+1}\")\n",
    "            break\n",
    "\n",
    "\n",
    "#plot loss curve\n",
    "plt.plot(train_losses_class, label='Train Loss')\n",
    "plt.plot(val_losses_class, label='Validation Loss')\n",
    "plt.title(\"Loss Curve (Classification)\")\n",
    "plt.xlabel(\"Epoch\")\n",
    "plt.ylabel(\"Loss\")\n",
    "plt.legend()\n",
    "plt.grid(True)\n",
    "plt.tight_layout()\n",
    "plt.show()"
   ]
  },
  {
   "cell_type": "markdown",
   "id": "9fd1ddc2",
   "metadata": {},
   "source": [
    "**Comparison Between Regression and Classification Approaches**  \n",
    "\n",
    "To explore whether a classification model could outperform regression for abalone age prediction, a separate classification pipeline was implemented. The target variable *Rings* was converted into integer class labels ranging from 0 to 28 (originally 1–29), and a model with 29 output classes was trained using `CrossEntropyLoss`.  \n",
    "\n",
    "To ensure complete separation from the regression pipeline, distinct preprocessing workflows, dataset classes, model architectures, and optimizers were employed.  \n",
    "\n",
    "**Observations**:  \n",
    "- The classification model achieved numerically lower validation loss (e.g., ~1.89) compared to the regression model (e.g., ~4.1). However, this is expected since the loss functions (MSE vs. CrossEntropy) are not directly comparable.  \n",
    "- Classification outputs required conversion back to numerical form (class label + 1), which introduced a loss of fine-grained resolution in predicted age values.  \n",
    "- The loss curve exhibited similar patterns to the regression model (validation loss lower than training loss), attributable to dropout and early stopping, rather than indicating overfitting.  \n",
    "\n",
    "**Conclusion**: Despite lower loss values, the classification model lacked the resolution required for precise age prediction—an inherently regression-oriented task. Therefore, the regression-based pipeline was retained as the final model for inference and submission.  "
   ]
  }
 ],
 "metadata": {
  "kernelspec": {
   "display_name": "Python 3 (ipykernel)",
   "language": "python",
   "name": "python3"
  },
  "language_info": {
   "codemirror_mode": {
    "name": "ipython",
    "version": 3
   },
   "file_extension": ".py",
   "mimetype": "text/x-python",
   "name": "python",
   "nbconvert_exporter": "python",
   "pygments_lexer": "ipython3",
   "version": "3.10.9"
  }
 },
 "nbformat": 4,
 "nbformat_minor": 5
}
